{
 "cells": [
  {
   "cell_type": "markdown",
   "id": "bb4e5f47",
   "metadata": {},
   "source": [
    "# Project 3, Part 4, Use neo4j to calculate degree centrality and most efficient path from AGM kitchen to additional pick up location\n",
    "\n",
    "University of California, Berkeley\n",
    "\n",
    "Master of Information and Data Science (MIDS) program\n",
    "\n",
    "w205 - Fundamentals of Data Engineering\n",
    "\n"
   ]
  },
  {
   "cell_type": "code",
   "execution_count": 1,
   "id": "d7c2962a",
   "metadata": {},
   "outputs": [],
   "source": [
    "import neo4j\n",
    "\n",
    "import pandas as pd\n",
    "\n",
    "from IPython.display import display"
   ]
  },
  {
   "cell_type": "code",
   "execution_count": 2,
   "id": "0c924aa0",
   "metadata": {},
   "outputs": [],
   "source": [
    "driver = neo4j.GraphDatabase.driver(uri=\"neo4j://neo4j:7687\", auth=(\"neo4j\",\"w205\"))"
   ]
  },
  {
   "cell_type": "code",
   "execution_count": 3,
   "id": "8ab1e1a3",
   "metadata": {},
   "outputs": [],
   "source": [
    "session = driver.session(database=\"neo4j\")"
   ]
  },
  {
   "cell_type": "code",
   "execution_count": 4,
   "id": "0694aeef",
   "metadata": {},
   "outputs": [],
   "source": [
    "def my_neo4j_run_query_pandas(query, **kwargs):\n",
    "    \"run a query and return the results in a pandas dataframe\"\n",
    "    \n",
    "    result = session.run(query, **kwargs)\n",
    "    \n",
    "    df = pd.DataFrame([r.values() for r in result], columns=result.keys())\n",
    "    \n",
    "    return df"
   ]
  },
  {
   "cell_type": "code",
   "execution_count": null,
   "id": "d7c09189",
   "metadata": {},
   "outputs": [],
   "source": [
    "# Calculate degree centrality to identify stations with the most connections, and thus experience a lot of traffic\n",
    "\n",
    "query = \"CALL gds.graph.drop('ds_graph', false)\"\n",
    "session.run(query)\n",
    "\n",
    "query = \"CALL gds.graph.create('ds_graph', 'Station', 'LINK', {relationshipProperties: 'weight'})\"\n",
    "session.run(query)\n",
    "\n",
    "query = \"\"\"\n",
    "\n",
    "CALL gds.degree.stream('ds_graph')\n",
    "YIELD nodeId, score\n",
    "RETURN gds.util.asNode(nodeId).name AS name, score as degree\n",
    "ORDER BY degree DESC, name\n",
    "\n",
    "\"\"\"\n",
    "\n",
    "my_neo4j_run_query_pandas(query)\n"
   ]
  },
  {
   "cell_type": "markdown",
   "id": "9d169ecb",
   "metadata": {},
   "source": [
    "## Balboa Park scored high on both population density and degree centrality, and is our prime candidate for an additional pick up location."
   ]
  },
  {
   "cell_type": "code",
   "execution_count": 5,
   "id": "d8f62d35",
   "metadata": {},
   "outputs": [],
   "source": [
    "def my_neo4j_shortest_path(from_station, to_station):\n",
    "    \"given a from station and to station, run and print the shortest path\"\n",
    "    \n",
    "    query = \"CALL gds.graph.drop('ds_graph', false)\"\n",
    "    session.run(query)\n",
    "\n",
    "    query = \"CALL gds.graph.create('ds_graph', 'Station', 'LINK', {relationshipProperties: 'weight'})\"\n",
    "    session.run(query)\n",
    "\n",
    "    query = \"\"\"\n",
    "\n",
    "    MATCH (source:Station {name: $source}), (target:Station {name: $target})\n",
    "    CALL gds.shortestPath.dijkstra.stream(\n",
    "        'ds_graph', \n",
    "        { sourceNode: source, \n",
    "          targetNode: target, \n",
    "          relationshipWeightProperty: 'weight'\n",
    "        }\n",
    "    )\n",
    "    YIELD index, sourceNode, targetNode, totalCost, nodeIds, costs, path\n",
    "    RETURN\n",
    "        gds.util.asNode(sourceNode).name AS from,\n",
    "        gds.util.asNode(targetNode).name AS to,\n",
    "        totalCost,\n",
    "        [nodeId IN nodeIds | gds.util.asNode(nodeId).name] AS nodes,\n",
    "        costs\n",
    "    ORDER BY index\n",
    "\n",
    "    \"\"\"\n",
    "\n",
    "    result = session.run(query, source=from_station, target=to_station)\n",
    "    \n",
    "    for r in result:\n",
    "        \n",
    "        total_cost = int(r['totalCost'])\n",
    "        \n",
    "        print(\"\\n--------------------------------\")\n",
    "        print(\"   Total Cost: \", total_cost)\n",
    "        print(\"   Minutes: \", round(total_cost / 60.0,1))\n",
    "        print(\"--------------------------------\")\n",
    "        \n",
    "        nodes = r['nodes']\n",
    "        costs = r['costs']\n",
    "        \n",
    "        i = 0\n",
    "        previous = 0\n",
    "        \n",
    "        for n in nodes:\n",
    "            \n",
    "            print(n + \", \" + str(int(costs[i]) - previous)  + \", \" + str(int(costs[i])))\n",
    "            \n",
    "            previous = int(costs[i])\n",
    "            i += 1\n",
    "    "
   ]
  },
  {
   "cell_type": "code",
   "execution_count": 6,
   "id": "03412e41",
   "metadata": {},
   "outputs": [
    {
     "name": "stdout",
     "output_type": "stream",
     "text": [
      "\n",
      "--------------------------------\n",
      "   Total Cost:  2100\n",
      "   Minutes:  35.0\n",
      "--------------------------------\n",
      "depart Ashby, 0, 0\n",
      "red Ashby, 0, 0\n",
      "red MacArthur, 240, 240\n",
      "red 19th Street, 180, 420\n",
      "red 12th Street, 120, 540\n",
      "red West Oakland, 300, 840\n",
      "red Embarcadero, 420, 1260\n",
      "red Montgomery Street, 60, 1320\n",
      "red Powell Street, 120, 1440\n",
      "red Civic Center, 60, 1500\n",
      "red 16th Street Mission, 180, 1680\n",
      "red 24th Street Mission, 120, 1800\n",
      "red Glen Park, 180, 1980\n",
      "red Balboa Park, 120, 2100\n",
      "arrive Balboa Park, 0, 2100\n"
     ]
    }
   ],
   "source": [
    "# Calculate shortest path from train station nearest to AGM kitchen to Balboa Park\n",
    "my_neo4j_shortest_path('depart Ashby', 'arrive Balboa Park')"
   ]
  },
  {
   "cell_type": "code",
   "execution_count": null,
   "id": "a9bd336d",
   "metadata": {},
   "outputs": [],
   "source": []
  }
 ],
 "metadata": {
  "kernelspec": {
   "display_name": "Python 3",
   "language": "python",
   "name": "python3"
  },
  "language_info": {
   "codemirror_mode": {
    "name": "ipython",
    "version": 3
   },
   "file_extension": ".py",
   "mimetype": "text/x-python",
   "name": "python",
   "nbconvert_exporter": "python",
   "pygments_lexer": "ipython3",
   "version": "3.8.8"
  }
 },
 "nbformat": 4,
 "nbformat_minor": 5
}
