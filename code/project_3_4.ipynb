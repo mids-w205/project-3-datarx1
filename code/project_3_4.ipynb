{
 "cells": [
  {
   "cell_type": "markdown",
   "id": "bb4e5f47",
   "metadata": {},
   "source": [
    "# Project 3, Part 4, Use neo4j to calculate most efficient path from AGM main location to additional pick up locations\n",
    "\n",
    "University of California, Berkeley\n",
    "\n",
    "Master of Information and Data Science (MIDS) program\n",
    "\n",
    "w205 - Fundamentals of Data Engineering\n",
    "\n"
   ]
  },
  {
   "cell_type": "code",
   "execution_count": 3,
   "id": "d7c2962a",
   "metadata": {},
   "outputs": [],
   "source": [
    "import neo4j\n",
    "\n",
    "import pandas as pd\n",
    "\n",
    "from IPython.display import display"
   ]
  },
  {
   "cell_type": "code",
   "execution_count": 5,
   "id": "0c924aa0",
   "metadata": {},
   "outputs": [],
   "source": [
    "driver = neo4j.GraphDatabase.driver(uri=\"neo4j://neo4j:7687\", auth=(\"neo4j\",\"w205\"))"
   ]
  },
  {
   "cell_type": "code",
   "execution_count": 6,
   "id": "8ab1e1a3",
   "metadata": {},
   "outputs": [],
   "source": [
    "session = driver.session(database=\"neo4j\")"
   ]
  },
  {
   "cell_type": "code",
   "execution_count": 8,
   "id": "d8f62d35",
   "metadata": {},
   "outputs": [],
   "source": [
    "def my_neo4j_shortest_path(from_station, to_station):\n",
    "    \"given a from station and to station, run and print the shortest path\"\n",
    "    \n",
    "    query = \"CALL gds.graph.drop('ds_graph', false)\"\n",
    "    session.run(query)\n",
    "\n",
    "    query = \"CALL gds.graph.create('ds_graph', 'Station', 'LINK', {relationshipProperties: 'weight'})\"\n",
    "    session.run(query)\n",
    "\n",
    "    query = \"\"\"\n",
    "\n",
    "    MATCH (source:Station {name: $source}), (target:Station {name: $target})\n",
    "    CALL gds.shortestPath.dijkstra.stream(\n",
    "        'ds_graph', \n",
    "        { sourceNode: source, \n",
    "          targetNode: target, \n",
    "          relationshipWeightProperty: 'weight'\n",
    "        }\n",
    "    )\n",
    "    YIELD index, sourceNode, targetNode, totalCost, nodeIds, costs, path\n",
    "    RETURN\n",
    "        gds.util.asNode(sourceNode).name AS from,\n",
    "        gds.util.asNode(targetNode).name AS to,\n",
    "        totalCost,\n",
    "        [nodeId IN nodeIds | gds.util.asNode(nodeId).name] AS nodes,\n",
    "        costs\n",
    "    ORDER BY index\n",
    "\n",
    "    \"\"\"\n",
    "\n",
    "    result = session.run(query, source=from_station, target=to_station)\n",
    "    \n",
    "    for r in result:\n",
    "        \n",
    "        total_cost = int(r['totalCost'])\n",
    "        \n",
    "        print(\"\\n--------------------------------\")\n",
    "        print(\"   Total Cost: \", total_cost)\n",
    "        print(\"   Minutes: \", round(total_cost / 60.0,1))\n",
    "        print(\"--------------------------------\")\n",
    "        \n",
    "        nodes = r['nodes']\n",
    "        costs = r['costs']\n",
    "        \n",
    "        i = 0\n",
    "        previous = 0\n",
    "        \n",
    "        for n in nodes:\n",
    "            \n",
    "            print(n + \", \" + str(int(costs[i]) - previous)  + \", \" + str(int(costs[i])))\n",
    "            \n",
    "            previous = int(costs[i])\n",
    "            i += 1\n",
    "    "
   ]
  },
  {
   "cell_type": "code",
   "execution_count": 9,
   "id": "03412e41",
   "metadata": {},
   "outputs": [
    {
     "name": "stdout",
     "output_type": "stream",
     "text": [
      "\n",
      "--------------------------------\n",
      "   Total Cost:  2100\n",
      "   Minutes:  35.0\n",
      "--------------------------------\n",
      "depart Ashby, 0, 0\n",
      "red Ashby, 0, 0\n",
      "red MacArthur, 240, 240\n",
      "red 19th Street, 180, 420\n",
      "red 12th Street, 120, 540\n",
      "red West Oakland, 300, 840\n",
      "red Embarcadero, 420, 1260\n",
      "red Montgomery Street, 60, 1320\n",
      "red Powell Street, 120, 1440\n",
      "red Civic Center, 60, 1500\n",
      "red 16th Street Mission, 180, 1680\n",
      "red 24th Street Mission, 120, 1800\n",
      "red Glen Park, 180, 1980\n",
      "red Balboa Park, 120, 2100\n",
      "arrive Balboa Park, 0, 2100\n"
     ]
    }
   ],
   "source": [
    "my_neo4j_shortest_path('depart Ashby', 'arrive Balboa Park')"
   ]
  },
  {
   "cell_type": "code",
   "execution_count": 10,
   "id": "556cd105",
   "metadata": {},
   "outputs": [
    {
     "name": "stdout",
     "output_type": "stream",
     "text": [
      "\n",
      "--------------------------------\n",
      "   Total Cost:  1440\n",
      "   Minutes:  24.0\n",
      "--------------------------------\n",
      "depart Ashby, 0, 0\n",
      "red Ashby, 0, 0\n",
      "red MacArthur, 240, 240\n",
      "red 19th Street, 180, 420\n",
      "red 12th Street, 120, 540\n",
      "red West Oakland, 300, 840\n",
      "red Embarcadero, 420, 1260\n",
      "red Montgomery Street, 60, 1320\n",
      "red Powell Street, 120, 1440\n",
      "arrive Powell Street, 0, 1440\n"
     ]
    }
   ],
   "source": [
    "my_neo4j_shortest_path('depart Ashby', 'arrive Powell Street')"
   ]
  },
  {
   "cell_type": "code",
   "execution_count": 11,
   "id": "0b5c171e",
   "metadata": {},
   "outputs": [
    {
     "name": "stdout",
     "output_type": "stream",
     "text": [
      "\n",
      "--------------------------------\n",
      "   Total Cost:  3059\n",
      "   Minutes:  51.0\n",
      "--------------------------------\n",
      "depart Ashby, 0, 0\n",
      "red Ashby, 0, 0\n",
      "red MacArthur, 240, 240\n",
      "yellow MacArthur, 59, 299\n",
      "yellow Rockridge, 240, 539\n",
      "yellow Orinda, 300, 839\n",
      "yellow Lafayette, 300, 1139\n",
      "yellow Walnut Creek, 300, 1439\n",
      "yellow Pleasant Hill, 120, 1559\n",
      "yellow Concord, 360, 1919\n",
      "yellow North Concord, 180, 2099\n",
      "yellow Pittsburg, 360, 2459\n",
      "yellow Pittsburg Center, 600, 3059\n",
      "arrive Pittsburg Center, 0, 3059\n"
     ]
    }
   ],
   "source": [
    "my_neo4j_shortest_path('depart Ashby', 'arrive Pittsburg Center')"
   ]
  },
  {
   "cell_type": "code",
   "execution_count": 12,
   "id": "d00c814e",
   "metadata": {},
   "outputs": [
    {
     "name": "stdout",
     "output_type": "stream",
     "text": [
      "\n",
      "--------------------------------\n",
      "   Total Cost:  1740\n",
      "   Minutes:  29.0\n",
      "--------------------------------\n",
      "depart Ashby, 0, 0\n",
      "orange Ashby, 0, 0\n",
      "orange MacArthur, 240, 240\n",
      "orange 19th Street, 180, 420\n",
      "orange 12th Street, 120, 540\n",
      "orange Lake Merritt, 180, 720\n",
      "orange Fruitvale, 300, 1020\n",
      "orange Coliseum, 240, 1260\n",
      "orange San Leandro, 240, 1500\n",
      "orange Bay Fair, 240, 1740\n",
      "arrive Bay Fair, 0, 1740\n"
     ]
    }
   ],
   "source": [
    "my_neo4j_shortest_path('depart Ashby', 'arrive Bay Fair')"
   ]
  },
  {
   "cell_type": "code",
   "execution_count": null,
   "id": "c6c7b712",
   "metadata": {},
   "outputs": [],
   "source": []
  }
 ],
 "metadata": {
  "kernelspec": {
   "display_name": "Python 3",
   "language": "python",
   "name": "python3"
  },
  "language_info": {
   "codemirror_mode": {
    "name": "ipython",
    "version": 3
   },
   "file_extension": ".py",
   "mimetype": "text/x-python",
   "name": "python",
   "nbconvert_exporter": "python",
   "pygments_lexer": "ipython3",
   "version": "3.8.8"
  }
 },
 "nbformat": 4,
 "nbformat_minor": 5
}
